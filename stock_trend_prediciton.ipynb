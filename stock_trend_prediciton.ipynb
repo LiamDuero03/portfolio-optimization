{
 "cells": [
  {
   "cell_type": "markdown",
   "id": "aba7d6a6-9d36-4de0-b896-fa5c1bd1d161",
   "metadata": {},
   "source": [
    "# 📈 Stock Price Movement Prediction with ML (PLTR)\n",
    "\n",
    "In this notebook, we will build a **machine learning model to predict next-day stock price movement** for a more niche stock: **PLTR (Palantir Technologies)**.\n",
    "\n",
    "Instead of using heavily overused stocks like AAPL, PLTR offers a less common but interesting case with strong volatility and growth potential.  \n",
    "\n",
    "---\n",
    "\n",
    "## 📌 What We’ll Do\n",
    "\n",
    "1. **Fetch historical stock prices for PLTR**\n",
    "2. **Create technical indicators** such as moving averages and volatility\n",
    "3. **Define the target variable**: next-day movement (up = 1, down = 0)\n",
    "4. **Split data into training and testing sets** (time-series split)\n",
    "5. **Train multiple ML models:**\n",
    "   - Logistic Regression\n",
    "   - Random Forest\n",
    "   - SVM\n",
    "6. **Evaluate models** using:\n",
    "   - Accuracy\n",
    "   - ROC-AUC\n",
    "   - Confusion Matrix\n",
    "7. **Compare models** and select the best one\n",
    "\n",
    "---\n",
    "\n",
    "## 📊 Why Predict Stock Movement?\n",
    "\n",
    "Stock price prediction is a challenging but valuable problem in quantitative finance. By predicting **probabilities of upward movement**, we can build smarter **ML-informed portfolios** instead of relying only on historical averages.\n",
    "\n",
    "---\n",
    "\n",
    "## 🔍 Features Used\n",
    "\n",
    "We’ll engineer some **basic technical indicators** commonly used in trading:\n",
    "\n",
    "- **Daily return** → percentage change from previous close\n",
    "- **5-day moving average (MA5)** → short-term trend\n",
    "- **10-day moving average (MA10)** → longer trend\n",
    "- **Rolling 5-day volatility** → recent price variability\n",
    "\n",
    "These features provide the model with **trend & risk information**.\n",
    "\n",
    "---\n",
    "\n",
    "## 🎯 Target Definition\n",
    "\n",
    "The **target** is a binary variable:\n",
    "\n",
    "- `1` if the stock goes **up** the next day\n",
    "- `0` if the stock goes **down** or stays flat\n",
    "\n",
    "This turns the problem into a **classification task** rather than raw price regression.\n",
    "\n",
    "---\n",
    "\n",
    "## 🛠️ Train/Test Split\n",
    "\n",
    "Since stock prices are time-series data, we **don’t shuffle** the dataset.\n",
    "\n",
    "- The **first 80% of the data** is used for training.\n",
    "- The **last 20%** is for testing, simulating how the model performs on unseen future data.\n",
    "\n",
    "---\n",
    "\n",
    "## 🤖 Models to Compare\n",
    "\n",
    "We’ll train **3 different ML models**:\n",
    "\n",
    "1. **Logistic Regression**  \n",
    "   - A simple linear model for classification.  \n",
    "2. **Random Forest**  \n",
    "   - An ensemble of decision trees, good for non-linear patterns.  \n",
    "3. **SVM (Support Vector Machine)**  \n",
    "   - A margin-based classifier that works well for binary classification.\n",
    "\n",
    "We’ll later compare their **Accuracy** and **ROC-AUC**.\n",
    "\n",
    "---\n",
    "\n",
    "## 📈 Evaluation Metrics\n",
    "\n",
    "We’ll evaluate each model using:\n",
    "\n",
    "- **Accuracy** → percentage of correctly predicted up/down movements\n",
    "- **ROC-AUC** → how well the model separates upward vs downward movements\n",
    "- **Confusion Matrix** → detailed breakdown of predictions\n",
    "\n",
    "These metrics help identify if the model is actually better than a naive baseline (like always predicting “up”).\n",
    "\n",
    "---\n",
    "\n",
    "## ✅ Summary & Next Steps\n",
    "\n",
    "After training and comparing the models, we’ll:\n",
    "\n",
    "- Pick the **best model** (highest ROC-AUC)\n",
    "- Visualize its confusion matrix\n",
    "- Discuss how predictions could feed into a **dynamic portfolio optimization**\n",
    "\n",
    "Future improvements:\n",
    "- Add advanced features (RSI, MACD, Bollinger Bands)\n",
    "- Try more powerful models (XGBoost, LSTM)\n",
    "- Combine multiple stocks into a **model-driven portfolio**\n",
    "\n",
    "---\n",
    "\n",
    "💡 **Why PLTR?**  \n",
    "PLTR is a volatile, growth-focused stock with strong recent data patterns—making it an interesting candidate for ML-based short-term trend prediction.\n"
   ]
  },
  {
   "cell_type": "code",
   "execution_count": 12,
   "id": "a35d762a-1f69-4f64-b1fe-d03db0254190",
   "metadata": {},
   "outputs": [],
   "source": [
    "import yfinance as yf\n",
    "import pandas as pd\n",
    "import numpy as np\n",
    "import matplotlib.pyplot as plt\n",
    "\n",
    "from sklearn.model_selection import train_test_split\n",
    "from sklearn.preprocessing import StandardScaler\n",
    "from sklearn.metrics import accuracy_score, roc_auc_score, confusion_matrix\n",
    "\n",
    "from sklearn.linear_model import LogisticRegression\n",
    "from sklearn.ensemble import RandomForestClassifier\n",
    "from sklearn.svm import SVC\n"
   ]
  },
  {
   "cell_type": "code",
   "execution_count": 13,
   "id": "18a39488-0222-4271-9f92-4e8a11e11926",
   "metadata": {},
   "outputs": [
    {
     "name": "stderr",
     "output_type": "stream",
     "text": [
      "C:\\Users\\Liam Sydney\\AppData\\Local\\Temp\\ipykernel_27940\\2703597838.py:2: FutureWarning: YF.download() has changed argument auto_adjust default to True\n",
      "  data = yf.download(ticker, start=\"2020-01-01\")['Close']\n",
      "[*********************100%***********************]  1 of 1 completed\n"
     ]
    }
   ],
   "source": [
    "ticker = \"PLTR\"\n",
    "data = yf.download(ticker, start=\"2020-01-01\")['Close']\n",
    "returns = data.pct_change()\n"
   ]
  },
  {
   "cell_type": "code",
   "execution_count": 14,
   "id": "536094f7-bfae-41a6-8c0f-ab6c7ad148d2",
   "metadata": {},
   "outputs": [],
   "source": [
    "df = pd.DataFrame(index=data.index)\n",
    "df['close'] = data\n",
    "df['return'] = returns\n",
    "df['ma5'] = data.rolling(5).mean()\n",
    "df['ma10'] = data.rolling(10).mean()\n",
    "df['volatility'] = returns.rolling(5).std()\n",
    "\n",
    "# Fill/Drop NaNs\n",
    "df = df.dropna()\n"
   ]
  },
  {
   "cell_type": "code",
   "execution_count": 16,
   "id": "c5e6074c-9337-42bc-814c-39a9d271829c",
   "metadata": {},
   "outputs": [],
   "source": [
    "df['target'] = (df['return'].shift(-1) > 0).astype(int)  # 1 if next day up, else 0\n",
    "df = df.dropna()\n",
    "\n",
    "features = ['return','ma5','ma10','volatility']\n",
    "X = df[features]\n",
    "y = df['target']\n"
   ]
  },
  {
   "cell_type": "code",
   "execution_count": 17,
   "id": "d01f40fc-5f51-4e0d-bc11-63313db767bb",
   "metadata": {},
   "outputs": [],
   "source": [
    "# No shuffling because time series\n",
    "split = int(len(X)*0.8)\n",
    "X_train, X_test = X.iloc[:split], X.iloc[split:]\n",
    "y_train, y_test = y.iloc[:split], y.iloc[split:]\n",
    "\n",
    "# Scale features for models like LogisticRegression & SVM\n",
    "scaler = StandardScaler()\n",
    "X_train_scaled = scaler.fit_transform(X_train)\n",
    "X_test_scaled = scaler.transform(X_test)\n"
   ]
  },
  {
   "cell_type": "code",
   "execution_count": 18,
   "id": "48b38d8e-e7fc-47fc-898b-cbe19c1feb02",
   "metadata": {},
   "outputs": [],
   "source": [
    "models = {\n",
    "    \"Logistic Regression\": LogisticRegression(),\n",
    "    \"Random Forest\": RandomForestClassifier(n_estimators=100, random_state=42),\n",
    "    \"SVM\": SVC(probability=True)\n",
    "}\n",
    "\n",
    "results = {}\n",
    "\n",
    "for name, model in models.items():\n",
    "    # Use scaled data for logistic & SVM, raw for RF\n",
    "    if name == \"Random Forest\":\n",
    "        model.fit(X_train, y_train)\n",
    "        y_pred = model.predict(X_test)\n",
    "        y_prob = model.predict_proba(X_test)[:,1]\n",
    "    else:\n",
    "        model.fit(X_train_scaled, y_train)\n",
    "        y_pred = model.predict(X_test_scaled)\n",
    "        y_prob = model.predict_proba(X_test_scaled)[:,1]\n",
    "    \n",
    "    acc = accuracy_score(y_test, y_pred)\n",
    "    roc = roc_auc_score(y_test, y_prob)\n",
    "    results[name] = (acc, roc)\n"
   ]
  },
  {
   "cell_type": "code",
   "execution_count": 19,
   "id": "f5311d74-5a75-4039-bacc-83113672ba6f",
   "metadata": {},
   "outputs": [
    {
     "name": "stdout",
     "output_type": "stream",
     "text": [
      "Logistic Regression: Accuracy=0.418, ROC-AUC=0.496\n",
      "Random Forest: Accuracy=0.435, ROC-AUC=0.515\n",
      "SVM: Accuracy=0.414, ROC-AUC=0.567\n"
     ]
    }
   ],
   "source": [
    "for name, (acc, roc) in results.items():\n",
    "    print(f\"{name}: Accuracy={acc:.3f}, ROC-AUC={roc:.3f}\")\n"
   ]
  },
  {
   "cell_type": "code",
   "execution_count": 20,
   "id": "a3f2cc13-bc68-4e5c-bcd1-87b030a405cb",
   "metadata": {},
   "outputs": [
    {
     "name": "stdout",
     "output_type": "stream",
     "text": [
      "Best Model: SVM\n"
     ]
    },
    {
     "data": {
      "image/png": "[encoded data removed]",
      "text/plain": [
       "<Figure size 640x480 with 2 Axes>"
      ]
     },
     "metadata": {},
     "output_type": "display_data"
    }
   ],
   "source": [
    "from sklearn.metrics import ConfusionMatrixDisplay\n",
    "\n",
    "best_model_name = max(results, key=lambda x: results[x][1])\n",
    "print(\"Best Model:\", best_model_name)\n",
    "best_model = models[best_model_name]\n",
    "\n",
    "if best_model_name == \"Random Forest\":\n",
    "    y_best_pred = best_model.predict(X_test)\n",
    "else:\n",
    "    y_best_pred = best_model.predict(X_test_scaled)\n",
    "\n",
    "ConfusionMatrixDisplay.from_predictions(y_test, y_best_pred)\n",
    "plt.show()\n"
   ]
  }
 ],
 "metadata": {
  "kernelspec": {
   "display_name": "Python 3 (ipykernel)",
   "language": "python",
   "name": "python3"
  },
  "language_info": {
   "codemirror_mode": {
    "name": "ipython",
    "version": 3
   },
   "file_extension": ".py",
   "mimetype": "text/x-python",
   "name": "python",
   "nbconvert_exporter": "python",
   "pygments_lexer": "ipython3",
   "version": "3.12.0"
  }
 },
 "nbformat": 4,
 "nbformat_minor": 5
}
